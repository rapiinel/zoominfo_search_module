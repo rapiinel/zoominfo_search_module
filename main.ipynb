{
 "cells": [
  {
   "cell_type": "code",
   "execution_count": null,
   "metadata": {},
   "outputs": [],
   "source": [
    "%load_ext autoreload\n",
    "%autoreload 2\n",
    "\n",
    "# Second cell\n",
    "from zoom_info_module import zoominfo"
   ]
  },
  {
   "cell_type": "code",
   "execution_count": null,
   "metadata": {},
   "outputs": [],
   "source": [
    "import pandas as pd\n",
    "from tqdm import tqdm"
   ]
  },
  {
   "cell_type": "code",
   "execution_count": null,
   "metadata": {},
   "outputs": [],
   "source": [
    "session = zoominfo()"
   ]
  },
  {
   "cell_type": "code",
   "execution_count": null,
   "metadata": {},
   "outputs": [],
   "source": [
    "df = pd.read_excel('Validation Records for tracer - Individual - zoominfo company search.xlsx')"
   ]
  },
  {
   "cell_type": "code",
   "execution_count": null,
   "metadata": {},
   "outputs": [],
   "source": [
    "df = df[['first_name', 'last_name', 'Linkedin Company']]\n",
    "df['search key'] = df.apply(lambda x: (x['first_name'], x['last_name'], x['Linkedin Company']), axis=1)"
   ]
  },
  {
   "cell_type": "markdown",
   "metadata": {},
   "source": [
    "## Start at a point in the dataframe"
   ]
  },
  {
   "cell_type": "code",
   "execution_count": null,
   "metadata": {},
   "outputs": [],
   "source": [
    "df[df['search key'] == ('Charlie', 'Palmer', 'CP3 Energy Group')]"
   ]
  },
  {
   "cell_type": "code",
   "execution_count": null,
   "metadata": {},
   "outputs": [],
   "source": [
    "df = df.iloc[2658:]\n",
    "df"
   ]
  },
  {
   "cell_type": "code",
   "execution_count": null,
   "metadata": {},
   "outputs": [],
   "source": [
    "search_list = []\n",
    "consecutive_errors = 0\n",
    "log_file = \"error_log_raffie.txt\"\n",
    "\n",
    "# Open the log file in append mode at the beginning to keep previous logs\n",
    "with open(log_file, \"a\") as file:\n",
    "    file.write(\"Error Log\\n\")\n",
    "    file.write(\"=========\\n\")\n",
    "\n",
    "# Using leave=False to prevent tqdm from leaving progress bars on new lines\n",
    "for search_key in tqdm(df['search key'], leave=False):\n",
    "    try:\n",
    "        search_df = session.search(search_key[0],search_key[1],search_key[2])\n",
    "        search_list.append(search_df)\n",
    "        consecutive_errors = 0  # Reset the error counter on successful processing\n",
    "    except Exception as e:\n",
    "        consecutive_errors += 1\n",
    "        error_message = f\"Error processing {search_key}: {e}\\n\"\n",
    "        # print(error_message)\n",
    "\n",
    "        # Append the error message to the log file\n",
    "        with open(log_file, \"a\") as file:\n",
    "            file.write(error_message)\n",
    "        \n",
    "        if consecutive_errors >= 5:\n",
    "            raise Exception(\"Five consecutive errors encountered. Stopping execution.\")\n",
    "\n",
    "# Reset the consecutive_errors counter if needed for further processing\n",
    "consecutive_errors = 0"
   ]
  }
 ],
 "metadata": {
  "kernelspec": {
   "display_name": ".venv",
   "language": "python",
   "name": "python3"
  },
  "language_info": {
   "codemirror_mode": {
    "name": "ipython",
    "version": 3
   },
   "file_extension": ".py",
   "mimetype": "text/x-python",
   "name": "python",
   "nbconvert_exporter": "python",
   "pygments_lexer": "ipython3",
   "version": "3.10.12"
  }
 },
 "nbformat": 4,
 "nbformat_minor": 2
}
