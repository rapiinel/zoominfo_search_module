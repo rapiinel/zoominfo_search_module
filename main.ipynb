{
 "cells": [
  {
   "cell_type": "code",
   "execution_count": 5,
   "metadata": {},
   "outputs": [
    {
     "name": "stdout",
     "output_type": "stream",
     "text": [
      "The autoreload extension is already loaded. To reload it, use:\n",
      "  %reload_ext autoreload\n"
     ]
    }
   ],
   "source": [
    "%load_ext autoreload\n",
    "%autoreload 2\n",
    "\n",
    "# Second cell\n",
    "from zoom_info_module import zoominfo"
   ]
  },
  {
   "cell_type": "code",
   "execution_count": 17,
   "metadata": {},
   "outputs": [],
   "source": [
    "import pandas as pd"
   ]
  },
  {
   "cell_type": "code",
   "execution_count": 14,
   "metadata": {},
   "outputs": [],
   "source": [
    "test = zoominfo()"
   ]
  },
  {
   "cell_type": "code",
   "execution_count": 15,
   "metadata": {},
   "outputs": [],
   "source": [
    "firstName = 'Alan'\n",
    "lastName = 'Raffie'\n",
    "company = 'ARALCO'"
   ]
  },
  {
   "cell_type": "code",
   "execution_count": 16,
   "metadata": {},
   "outputs": [
    {
     "data": {
      "text/html": [
       "<div>\n",
       "<style scoped>\n",
       "    .dataframe tbody tr th:only-of-type {\n",
       "        vertical-align: middle;\n",
       "    }\n",
       "\n",
       "    .dataframe tbody tr th {\n",
       "        vertical-align: top;\n",
       "    }\n",
       "\n",
       "    .dataframe thead th {\n",
       "        text-align: right;\n",
       "    }\n",
       "</style>\n",
       "<table border=\"1\" class=\"dataframe\">\n",
       "  <thead>\n",
       "    <tr style=\"text-align: right;\">\n",
       "      <th></th>\n",
       "      <th>companyID</th>\n",
       "      <th>companyName</th>\n",
       "      <th>companyAddress</th>\n",
       "      <th>companyRevenue</th>\n",
       "      <th>companyRevenueRange</th>\n",
       "      <th>companyEmployees</th>\n",
       "      <th>companyEmployeeCountRange</th>\n",
       "      <th>companyDomain</th>\n",
       "      <th>website</th>\n",
       "      <th>companyDescription</th>\n",
       "      <th>...</th>\n",
       "      <th>score</th>\n",
       "      <th>mobilePhone</th>\n",
       "      <th>mobilePhoneIsDoNotCall</th>\n",
       "      <th>privacyRegulationFlags</th>\n",
       "      <th>certifications</th>\n",
       "      <th>isEU</th>\n",
       "      <th>creationDate</th>\n",
       "      <th>buyingCommittee</th>\n",
       "      <th>hasOnlinePresence</th>\n",
       "      <th>personHashtags</th>\n",
       "    </tr>\n",
       "  </thead>\n",
       "  <tbody>\n",
       "    <tr>\n",
       "      <th>0</th>\n",
       "      <td>4687530</td>\n",
       "      <td>ARALCO</td>\n",
       "      <td>{'Street': '8420 Citrus Wynd', 'City': 'Vancou...</td>\n",
       "      <td>$4.8 Million</td>\n",
       "      <td>$1 mil. - $5 mil.</td>\n",
       "      <td>18</td>\n",
       "      <td>10 - 20</td>\n",
       "      <td>www.aralco.com</td>\n",
       "      <td>www.aralco.com</td>\n",
       "      <td>Aralco offers the best power-to-cost ratio on ...</td>\n",
       "      <td>...</td>\n",
       "      <td>1</td>\n",
       "      <td>(604) 644-2816</td>\n",
       "      <td>True</td>\n",
       "      <td>{'privacyRegulationFlag': 'canada'}</td>\n",
       "      <td>[{'certificationName': 'President &amp; Chief Exec...</td>\n",
       "      <td>False</td>\n",
       "      <td>1970-01-01</td>\n",
       "      <td>False</td>\n",
       "      <td>True</td>\n",
       "      <td>['JOB_FUNCTION_0.0_40_TO_49_YRS', '#Flag_likel...</td>\n",
       "    </tr>\n",
       "  </tbody>\n",
       "</table>\n",
       "<p>1 rows × 46 columns</p>\n",
       "</div>"
      ],
      "text/plain": [
       "  companyID companyName                                     companyAddress  \\\n",
       "0   4687530      ARALCO  {'Street': '8420 Citrus Wynd', 'City': 'Vancou...   \n",
       "\n",
       "  companyRevenue companyRevenueRange companyEmployees  \\\n",
       "0   $4.8 Million   $1 mil. - $5 mil.               18   \n",
       "\n",
       "  companyEmployeeCountRange   companyDomain         website  \\\n",
       "0                   10 - 20  www.aralco.com  www.aralco.com   \n",
       "\n",
       "                                  companyDescription  ... score  \\\n",
       "0  Aralco offers the best power-to-cost ratio on ...  ...     1   \n",
       "\n",
       "      mobilePhone mobilePhoneIsDoNotCall               privacyRegulationFlags  \\\n",
       "0  (604) 644-2816                   True  {'privacyRegulationFlag': 'canada'}   \n",
       "\n",
       "                                      certifications   isEU creationDate  \\\n",
       "0  [{'certificationName': 'President & Chief Exec...  False   1970-01-01   \n",
       "\n",
       "  buyingCommittee hasOnlinePresence  \\\n",
       "0           False              True   \n",
       "\n",
       "                                      personHashtags  \n",
       "0  ['JOB_FUNCTION_0.0_40_TO_49_YRS', '#Flag_likel...  \n",
       "\n",
       "[1 rows x 46 columns]"
      ]
     },
     "execution_count": 16,
     "metadata": {},
     "output_type": "execute_result"
    }
   ],
   "source": [
    "test.search(firstName, lastName, company)"
   ]
  },
  {
   "cell_type": "markdown",
   "metadata": {},
   "source": []
  }
 ],
 "metadata": {
  "kernelspec": {
   "display_name": ".venv",
   "language": "python",
   "name": "python3"
  },
  "language_info": {
   "codemirror_mode": {
    "name": "ipython",
    "version": 3
   },
   "file_extension": ".py",
   "mimetype": "text/x-python",
   "name": "python",
   "nbconvert_exporter": "python",
   "pygments_lexer": "ipython3",
   "version": "3.10.12"
  }
 },
 "nbformat": 4,
 "nbformat_minor": 2
}
